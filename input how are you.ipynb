{
 "cells": [
  {
   "cell_type": "code",
   "execution_count": 2,
   "metadata": {},
   "outputs": [
    {
     "name": "stdout",
     "output_type": "stream",
     "text": [
      "Greetings. What is your name? Lauren\n",
      "Hi Lauren how are you feeling today? On a scale of 1-10, where 0 is sad and 10 happy, how do you feel? \n",
      "0-10 10\n",
      "Lauren I'm glad you are on this side of the rainbow.\n"
     ]
    }
   ],
   "source": [
    "name = input (\"Greetings. What is your name? \")\n",
    "print (\"Hi\",name, \"how are you feeling today? On a scale of 1-10, where 0 is sad and 10 happy, how do you feel? \")\n",
    "# f = feelings\n",
    "f = input (\"0-10 \")\n",
    "if int (f) < 5:\n",
    "    print(name, \"I'm so sorry you feel that way. I hope you feel better soon.\")\n",
    "elif int (f) == 5:\n",
    "    print(name, \"you really are stuck in the the middle.\")\n",
    "elif int (f) > 5:\n",
    "    print(name, \"I'm glad you are on this side of the rainbow.\")\n",
    "else:\n",
    "    print(\"I'm sorry\", name, \"that is not a valid entry. Please try again.\")"
   ]
  },
  {
   "cell_type": "code",
   "execution_count": null,
   "metadata": {},
   "outputs": [],
   "source": []
  },
  {
   "cell_type": "code",
   "execution_count": null,
   "metadata": {},
   "outputs": [],
   "source": []
  }
 ],
 "metadata": {
  "kernelspec": {
   "display_name": "Python 3",
   "language": "python",
   "name": "python3"
  },
  "language_info": {
   "codemirror_mode": {
    "name": "ipython",
    "version": 3
   },
   "file_extension": ".py",
   "mimetype": "text/x-python",
   "name": "python",
   "nbconvert_exporter": "python",
   "pygments_lexer": "ipython3",
   "version": "3.8.5"
  }
 },
 "nbformat": 4,
 "nbformat_minor": 4
}
