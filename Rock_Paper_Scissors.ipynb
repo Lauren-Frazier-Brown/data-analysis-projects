{
 "cells": [
  {
   "cell_type": "code",
   "execution_count": 1,
   "metadata": {},
   "outputs": [],
   "source": [
    "from random import randint"
   ]
  },
  {
   "cell_type": "code",
   "execution_count": 2,
   "metadata": {},
   "outputs": [],
   "source": [
    "t = [\"Rock\", \"Paper\", \"Scissors\"]"
   ]
  },
  {
   "cell_type": "code",
   "execution_count": 3,
   "metadata": {},
   "outputs": [],
   "source": [
    "computer = t[randint(0,2)]"
   ]
  },
  {
   "cell_type": "code",
   "execution_count": 4,
   "metadata": {},
   "outputs": [
    {
     "ename": "IndentationError",
     "evalue": "unexpected indent (<ipython-input-4-9c6507c09477>, line 23)",
     "output_type": "error",
     "traceback": [
      "\u001b[1;36m  File \u001b[1;32m\"<ipython-input-4-9c6507c09477>\"\u001b[1;36m, line \u001b[1;32m23\u001b[0m\n\u001b[1;33m    player = False\u001b[0m\n\u001b[1;37m    ^\u001b[0m\n\u001b[1;31mIndentationError\u001b[0m\u001b[1;31m:\u001b[0m unexpected indent\n"
     ]
    }
   ],
   "source": [
    "player = False\n",
    "while player == False:\n",
    "    player = input(\"Rock, Paper, Scissors?\")\n",
    "    if player == computer:\n",
    "        print(\"Tie!\")\n",
    "    elif player == \"Rock\":\n",
    "        if computer == \"Paper\":\n",
    "            print(\"You lose!\", computer, \"covers\", player)\n",
    "        else:\n",
    "            print(\"You win!\", player, \"smashes\", computer)\n",
    "    elif player == \"Paper\":\n",
    "        if computer == \"Scissors\":\n",
    "            print(\"You lose!\", computer, \"cut\", player)\n",
    "        else:\n",
    "            print(\"You win!\", player, \"covers\", computer)\n",
    "    elif player == \"Scissors\":\n",
    "        if computer == \"Rock\":\n",
    "            print(\"You lose...\", computer, \"smashes\", player)\n",
    "        else:\n",
    "            print(\"You win!\", player, \"cut\", computer)\n",
    "    else:\n",
    "        print(\"That's not a valid play. Check your spelling!\")\n",
    "         player = False\n",
    "    computer = t[randint(0,2)]"
   ]
  },
  {
   "cell_type": "code",
   "execution_count": null,
   "metadata": {},
   "outputs": [
    {
     "name": "stdout",
     "output_type": "stream",
     "text": [
      "Rock, Paper, Scissors?paper\n",
      "That's not a valid play. Check your spelling!\n",
      "Rock, Paper, Scissors?Paper\n",
      "You lose! Scissors cut Paper\n"
     ]
    }
   ],
   "source": [
    "player = False\n",
    "while player == False:\n",
    "    player = input(\"Rock, Paper, Scissors?\")\n",
    "    if player == computer:\n",
    "        print(\"Tie!\")\n",
    "    elif player == \"Rock\":\n",
    "        if computer == \"Paper\":\n",
    "            print(\"You lose!\", computer, \"covers\", player)\n",
    "        else:\n",
    "            print(\"You win!\", player, \"smashes\", computer)\n",
    "    elif player == \"Paper\":\n",
    "        if computer == \"Scissors\":\n",
    "            print(\"You lose!\", computer, \"cut\", player)\n",
    "        else:\n",
    "            print(\"You win!\", player, \"covers\", computer)\n",
    "    elif player == \"Scissors\":\n",
    "        if computer == \"Rock\":\n",
    "            print(\"You lose...\", computer, \"smashes\", player)\n",
    "        else:\n",
    "            print(\"You win!\", player, \"cut\", computer)\n",
    "    else:\n",
    "        print(\"That's not a valid play. Check your spelling!\")\n",
    "    player = False\n",
    "    computer = t[randint(0,2)]
          break"
   ]
  },
  {
   "cell_type": "code",
   "execution_count": null,
   "metadata": {},
   "outputs": [],
   "source": []
  }
 ],
 "metadata": {
  "kernelspec": {
   "display_name": "Python 3",
   "language": "python",
   "name": "python3"
  },
  "language_info": {
   "codemirror_mode": {
    "name": "ipython",
    "version": 3
   },
   "file_extension": ".py",
   "mimetype": "text/x-python",
   "name": "python",
   "nbconvert_exporter": "python",
   "pygments_lexer": "ipython3",
   "version": "3.8.5"
  }
 },
 "nbformat": 4,
 "nbformat_minor": 4
}
